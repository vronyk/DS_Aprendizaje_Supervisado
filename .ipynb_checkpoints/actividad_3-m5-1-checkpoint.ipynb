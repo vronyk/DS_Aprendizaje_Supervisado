{
 "cells": [
  {
   "cell_type": "markdown",
   "id": "87c07305",
   "metadata": {},
   "source": [
    "**Ejercicio:** Supóngase que el departamento de ventas de una empresa quiere estudiar la influencia que tiene la publicidad a través de distintos canales sobre el número de ventas de un producto. Se dispone de un conjunto de datos que contiene los ingresos (en millones) conseguido por ventas en 200 regiones, así como la cantidad de presupuesto, también en millones, destinado a anuncios por radio, TV y periódicos en cada una de ellas."
   ]
  },
  {
   "cell_type": "code",
   "execution_count": 47,
   "id": "54c923bc",
   "metadata": {},
   "outputs": [],
   "source": [
    "#Importar librerías\n",
    "\n",
    "from sklearn.linear_model import LinearRegression\n",
    "from sklearn.model_selection import train_test_split\n",
    "import pandas as pd\n",
    "import numpy as np\n",
    "import matplotlib.pyplot as plt\n",
    "import seaborn as sns\n",
    "import scipy.stats\n",
    "from sklearn.metrics import mean_absolute_error, mean_squared_error\n",
    "from scipy.stats import shapiro\n",
    "from scipy.stats import normaltest\n",
    "\n",
    "from sklearn.metrics import r2_score"
   ]
  },
  {
   "cell_type": "code",
   "execution_count": 4,
   "id": "54c7a6f4",
   "metadata": {},
   "outputs": [
    {
     "data": {
      "text/html": [
       "<div>\n",
       "<style scoped>\n",
       "    .dataframe tbody tr th:only-of-type {\n",
       "        vertical-align: middle;\n",
       "    }\n",
       "\n",
       "    .dataframe tbody tr th {\n",
       "        vertical-align: top;\n",
       "    }\n",
       "\n",
       "    .dataframe thead th {\n",
       "        text-align: right;\n",
       "    }\n",
       "</style>\n",
       "<table border=\"1\" class=\"dataframe\">\n",
       "  <thead>\n",
       "    <tr style=\"text-align: right;\">\n",
       "      <th></th>\n",
       "      <th>tv</th>\n",
       "      <th>radio</th>\n",
       "      <th>periodico</th>\n",
       "      <th>ventas</th>\n",
       "    </tr>\n",
       "  </thead>\n",
       "  <tbody>\n",
       "    <tr>\n",
       "      <th>0</th>\n",
       "      <td>230.1</td>\n",
       "      <td>37.8</td>\n",
       "      <td>69.2</td>\n",
       "      <td>22.1</td>\n",
       "    </tr>\n",
       "    <tr>\n",
       "      <th>1</th>\n",
       "      <td>44.5</td>\n",
       "      <td>39.3</td>\n",
       "      <td>45.1</td>\n",
       "      <td>10.4</td>\n",
       "    </tr>\n",
       "    <tr>\n",
       "      <th>2</th>\n",
       "      <td>17.2</td>\n",
       "      <td>45.9</td>\n",
       "      <td>69.3</td>\n",
       "      <td>9.3</td>\n",
       "    </tr>\n",
       "    <tr>\n",
       "      <th>3</th>\n",
       "      <td>151.5</td>\n",
       "      <td>41.3</td>\n",
       "      <td>58.5</td>\n",
       "      <td>18.5</td>\n",
       "    </tr>\n",
       "    <tr>\n",
       "      <th>4</th>\n",
       "      <td>180.8</td>\n",
       "      <td>10.8</td>\n",
       "      <td>58.4</td>\n",
       "      <td>12.9</td>\n",
       "    </tr>\n",
       "    <tr>\n",
       "      <th>5</th>\n",
       "      <td>8.7</td>\n",
       "      <td>48.9</td>\n",
       "      <td>75.0</td>\n",
       "      <td>7.2</td>\n",
       "    </tr>\n",
       "    <tr>\n",
       "      <th>6</th>\n",
       "      <td>57.5</td>\n",
       "      <td>32.8</td>\n",
       "      <td>23.5</td>\n",
       "      <td>11.8</td>\n",
       "    </tr>\n",
       "    <tr>\n",
       "      <th>7</th>\n",
       "      <td>120.2</td>\n",
       "      <td>19.6</td>\n",
       "      <td>11.6</td>\n",
       "      <td>13.2</td>\n",
       "    </tr>\n",
       "    <tr>\n",
       "      <th>8</th>\n",
       "      <td>8.6</td>\n",
       "      <td>2.1</td>\n",
       "      <td>1.0</td>\n",
       "      <td>4.8</td>\n",
       "    </tr>\n",
       "    <tr>\n",
       "      <th>9</th>\n",
       "      <td>199.8</td>\n",
       "      <td>2.6</td>\n",
       "      <td>21.2</td>\n",
       "      <td>10.6</td>\n",
       "    </tr>\n",
       "  </tbody>\n",
       "</table>\n",
       "</div>"
      ],
      "text/plain": [
       "      tv  radio  periodico  ventas\n",
       "0  230.1   37.8       69.2    22.1\n",
       "1   44.5   39.3       45.1    10.4\n",
       "2   17.2   45.9       69.3     9.3\n",
       "3  151.5   41.3       58.5    18.5\n",
       "4  180.8   10.8       58.4    12.9\n",
       "5    8.7   48.9       75.0     7.2\n",
       "6   57.5   32.8       23.5    11.8\n",
       "7  120.2   19.6       11.6    13.2\n",
       "8    8.6    2.1        1.0     4.8\n",
       "9  199.8    2.6       21.2    10.6"
      ]
     },
     "execution_count": 4,
     "metadata": {},
     "output_type": "execute_result"
    }
   ],
   "source": [
    "tv = [230.1, 44.5, 17.2, 151.5, 180.8, 8.7, 57.5, 120.2, 8.6, 199.8, 66.1, 214.7, 23.8, 97.5, 204.1, 195.4, 67.8, 281.4, \n",
    "      69.2, 147.3, 218.4,237.4, 13.2,228.3, 62.3, 262.9, 142.9, 240.1, 248.8, 70.6, 292.9, 112.9, 97.2, 265.6,95.7, 290.7,\n",
    "      266.9, 74.7, 43.1, 228.0, 202.5, 177.0, 293.6, 206.9, 25.1, 175.1, 89.7, 239.9, 227.2, 66.9, 199.8, 100.4, 216.4, 182.6,\n",
    "      262.7, 198.9, 7.3, 136.2, 210.8, 210.7, 53.5, 261.3, 239.3, 102.7, 131.1, 69.0, 31.5, 139.3, 237.4, 216.8, 199.1, 109.8,\n",
    "      26.8, 129.4, 213.4, 16.9, 27.5, 120.5, 5.4, 116.0, 76.4, 239.8, 75.3, 68.4, 213.5, 193.2, 76.3, 110.7, 88.3, 109.8, \n",
    "      134.3, 28.6, 217.7, 250.9, 107.4, 163.3, 197.6, 184.9, 289.7, 135.2, 222.4, 296.4, 280.2, 187.9, 238.2, 137.9, 25.0,\n",
    "      90.4, 13.1, 255.4, 225.8, 241.7, 175.7, 209.6, 78.2, 75.1, 139.2, 76.4, 125.7, 19.4, 141.3, 18.8, 224.0,123.1, 229.5,87.2,\n",
    "      7.8, 80.2, 220.3, 59.6, 0.7, 265.2, 8.4, 219.8, 36.9, 48.3, 25.6, 273.7,43.0, 184.9, 73.4, 193.7, 220.5, 104.6, 96.2, \n",
    "      140.3, 240.1,243.2, 38.0, 44.7,280.7, 121.0, 197.6, 171.3, 187.8, 4.1, 93.9, 149.8, 11.7,131.7, 172.5, 85.7,188.4, \n",
    "      163.5, 117.2, 234.5, 17.9, 206.8, 215.4, 284.3, 50.0,164.5, 19.6, 168.4,222.4, 276.9, 248.4, 170.2, 276.7, 165.6, 156.6,\n",
    "      218.5, 56.2,287.6, 253.8, 205.0,139.5, 191.1, 286.0, 18.7, 39.5, 75.5, 17.2, 166.8, 149.7, 38.2,94.2, 177.0,283.6, 232.1]\n",
    "\n",
    "radio = [37.8, 39.3, 45.9, 41.3, 10.8, 48.9, 32.8, 19.6, 2.1, 2.6, 5.8, 24.0, 35.1, 7.6, 32.9, 47.7, 36.6, 39.6, 20.5, 23.9, \n",
    "         27.7, 5.1, 15.9, 16.9, 12.6, 3.5, 29.3, 16.7, 27.1, 16.0, 28.3, 17.4, 1.5, 20.0, 1.4, 4.1, 43.8, 49.4, 26.7, 37.7, \n",
    "         22.3, 33.4, 27.7, 8.4, 25.7, 22.5, 9.9, 41.5, 15.8, 11.7, 3.1, 9.6, 41.7, 46.2, 28.8, 49.4, 28.1, 19.2, 49.6, 29.5, \n",
    "         2.0, 42.7, 15.5, 29.6, 42.8, 9.3, 24.6, 14.5, 27.5, 43.9, 30.6, 14.3, 33.0, 5.7, 24.6, 43.7, 1.6, 28.5, 29.9, 7.7, \n",
    "         26.7, 4.1, 20.3, 44.5, 43.0, 18.4, 27.5, 40.6, 25.5, 47.8, 4.9, 1.5, 33.5, 36.5, 14.0, 31.6, 3.5, 21.0, 42.3, 41.7, \n",
    "         4.3, 36.3, 10.1, 17.2, 34.3, 46.4, 11.0, 0.3, 0.4, 26.9, 8.2, 38.0, 15.4, 20.6, 46.8, 35.0, 14.3, 0.8, 36.9, 16.0, \n",
    "         26.8, 21.7, 2.4, 34.6, 32.3, 11.8, 38.9, 0.0, 49.0, 12.0, 39.6, 2.9, 27.2, 33.5, 38.6, 47.0, 39.0, 28.9, 25.9, 43.9,\n",
    "         17.0, 35.4, 33.2, 5.7, 14.8, 1.9, 7.3, 49.0, 40.3, 25.8, 13.9, 8.4, 23.3, 39.7, 21.1, 11.6, 43.5, 1.3, 36.9, 18.4,\n",
    "         18.1, 35.8, 18.1, 36.8, 14.7, 3.4, 37.6, 5.2, 23.6, 10.6, 11.6, 20.9, 20.1, 7.1, 3.4, 48.9, 30.2, 7.8, 2.3, 10.0, \n",
    "         2.6, 5.4, 5.7, 43.0, 21.3, 45.1, 2.1, 28.7, 13.9, 12.1, 41.1, 10.8, 4.1, 42.0, 35.6, 3.7, 4.9, 9.3, 42.0, 8.6]\n",
    "\n",
    "periodico = [69.2, 45.1, 69.3, 58.5, 58.4, 75.0, 23.5, 11.6, 1.0, 21.2, 24.2, 4.0, 65.9, 7.2, 46.0, 52.9, 114.0, 55.8, 18.3, \n",
    "             19.1, 53.4, 23.5, 49.6, 26.2, 18.3, 19.5, 12.6, 22.9, 22.9, 40.8, 43.2, 38.6, 30.0, 0.3, 7.4, 8.5, 5.0, 45.7, \n",
    "             35.1, 32.0, 31.6, 38.7, 1.8, 26.4, 43.3, 31.5, 35.7, 18.5, 49.9, 36.8, 34.6, 3.6, 39.6, 58.7, 15.9, 60.0, 41.4, \n",
    "             16.6, 37.7, 9.3, 21.4, 54.7, 27.3, 8.4, 28.9, 0.9, 2.2, 10.2, 11.0, 27.2, 38.7, 31.7, 19.3, 31.3, 13.1, 89.4, 20.7,\n",
    "             14.2, 9.4, 23.1, 22.3, 36.9, 32.5, 35.6, 33.8, 65.7, 16.0, 63.2, 73.4, 51.4, 9.3, 33.0, 59.0, 72.3, 10.9, 52.9, \n",
    "             5.9, 22.0, 51.2, 45.9, 49.8, 100.9, 21.4, 17.9, 5.3, 59.0, 29.7, 23.2, 25.6, 5.5, 56.5, 23.2, 2.4, 10.7, 34.5, \n",
    "             52.7, 25.6, 14.8, 79.2, 22.3, 46.2, 50.4, 15.6, 12.4, 74.2, 25.9, 50.6, 9.2, 3.2, 43.1, 8.7, 43.0, 2.1, 45.1, \n",
    "             65.6, 8.5, 9.3, 59.7, 20.5, 1.7, 12.9, 75.6, 37.9, 34.4, 38.9, 9.0, 8.7, 44.3, 11.9, 20.6, 37.0, 48.7, 14.2, 37.7,\n",
    "             9.5, 5.7, 50.5, 24.3, 45.2, 34.6, 30.7, 49.3, 25.6, 7.4, 5.4, 84.8, 21.6, 19.4, 57.6, 6.4, 18.4, 47.4, 17.0, 12.8, \n",
    "             13.1, 41.8, 20.3, 35.2, 23.7, 17.6, 8.3, 27.4, 29.7, 71.8, 30.0, 19.6, 26.6, 18.2, 3.7, 23.4, 5.8, 6.0, 31.6, 3.6, \n",
    "             6.0, 13.8, 8.1, 6.4, 66.2, 8.7]\n",
    "\n",
    "ventas = [22.1, 10.4, 9.3, 18.5, 12.9, 7.2, 11.8, 13.2, 4.8, 10.6, 8.6, 17.4, 9.2, 9.7, 19.0, 22.4, 12.5, 24.4, 11.3, 14.6, \n",
    "          18.0, 12.5, 5.6, 15.5, 9.7, 12.0, 15.0, 15.9, 18.9, 10.5, 21.4, 11.9, 9.6, 17.4, 9.5, 12.8, 25.4, 14.7, 10.1, 21.5, \n",
    "          16.6, 17.1, 20.7, 12.9, 8.5, 14.9, 10.6, 23.2, 14.8, 9.7, 11.4, 10.7, 22.6, 21.2, 20.2, 23.7, 5.5, 13.2, 23.8, 18.4,\n",
    "          8.1, 24.2, 15.7, 14.0, 18.0, 9.3, 9.5, 13.4, 18.9, 22.3, 18.3, 12.4, 8.8, 11.0, 17.0, 8.7, 6.9, 14.2, 5.3, 11.0, 11.8,\n",
    "          12.3, 11.3, 13.6, 21.7, 15.2, 12.0, 16.0, 12.9, 16.7, 11.2, 7.3, 19.4, 22.2, 11.5, 16.9, 11.7, 15.5, 25.4, 17.2, 11.7,\n",
    "          23.8, 14.8, 14.7, 20.7, 19.2, 7.2, 8.7, 5.3, 19.8, 13.4, 21.8, 14.1, 15.9, 14.6, 12.6, 12.2, 9.4, 15.9, 6.6, 15.5, \n",
    "          7.0, 11.6, 15.2, 19.7, 10.6, 6.6, 8.8, 24.7, 9.7, 1.6, 12.7, 5.7, 19.6, 10.8, 11.6, 9.5, 20.8, 9.6, 20.7, 10.9, 19.2, \n",
    "          20.1, 10.4, 11.4, 10.3, 13.2, 25.4, 10.9, 10.1, 16.1, 11.6, 16.6, 19.0, 15.6, 3.2, 15.3, 10.1, 7.3, 12.9, 14.4, 13.3,\n",
    "          14.9, 18.0, 11.9, 11.9, 8.0, 12.2, 17.1, 15.0, 8.4, 14.5, 7.6, 11.7, 11.5, 27.0, 20.2, 11.7, 11.8, 12.6, 10.5, 12.2, \n",
    "          8.7, 26.2, 17.6, 22.6, 10.3, 17.3, 15.9, 6.7, 10.8, 9.9, 5.9, 19.6, 17.3, 7.6, 9.7, 12.8, 25.5, 13.4]\n",
    "\n",
    "datos = pd.DataFrame({'tv': tv, 'radio': radio, 'periodico':periodico, 'ventas': ventas})\n",
    "datos.head(10)\n"
   ]
  },
  {
   "cell_type": "markdown",
   "id": "6a14cc3e",
   "metadata": {},
   "source": [
    "1. Obtenga la distribución de cada una de las variables"
   ]
  },
  {
   "cell_type": "code",
   "execution_count": 5,
   "id": "d1afadaf",
   "metadata": {},
   "outputs": [
    {
     "name": "stdout",
     "output_type": "stream",
     "text": [
      "<class 'pandas.core.frame.DataFrame'>\n",
      "RangeIndex: 200 entries, 0 to 199\n",
      "Data columns (total 4 columns):\n",
      " #   Column     Non-Null Count  Dtype  \n",
      "---  ------     --------------  -----  \n",
      " 0   tv         200 non-null    float64\n",
      " 1   radio      200 non-null    float64\n",
      " 2   periodico  200 non-null    float64\n",
      " 3   ventas     200 non-null    float64\n",
      "dtypes: float64(4)\n",
      "memory usage: 6.4 KB\n",
      "None\n"
     ]
    }
   ],
   "source": [
    "print(datos.info()) #obtener detalle de las variables"
   ]
  },
  {
   "cell_type": "code",
   "execution_count": 4,
   "id": "de62f6cc",
   "metadata": {},
   "outputs": [
    {
     "name": "stdout",
     "output_type": "stream",
     "text": [
      "               tv       radio   periodico      ventas\n",
      "count  200.000000  200.000000  200.000000  200.000000\n",
      "mean   147.042500   23.264000   30.554000   14.022500\n",
      "std     85.854236   14.846809   21.778621    5.217457\n",
      "min      0.700000    0.000000    0.300000    1.600000\n",
      "25%     74.375000    9.975000   12.750000   10.375000\n",
      "50%    149.750000   22.900000   25.750000   12.900000\n",
      "75%    218.825000   36.525000   45.100000   17.400000\n",
      "max    296.400000   49.600000  114.000000   27.000000\n"
     ]
    }
   ],
   "source": [
    "print(datos.describe()) #Descriptivos numéricos"
   ]
  },
  {
   "cell_type": "code",
   "execution_count": 6,
   "id": "d79964fd",
   "metadata": {},
   "outputs": [
    {
     "data": {
      "image/png": "[encoded data removed]",
      "text/plain": [
       "<Figure size 640x480 with 4 Axes>"
      ]
     },
     "metadata": {},
     "output_type": "display_data"
    }
   ],
   "source": [
    "#gráficos para ver distribución de cada variable\n",
    "plt.subplot(2,2,1) \n",
    "plt.hist(datos[\"tv\"], color = \"#2874A6\")\n",
    "plt.title(\"TV\")\n",
    "\n",
    "plt.subplot(2,2,2) \n",
    "plt.hist(datos[\"periodico\"], color = \"#2874A6\")\n",
    "plt.title(\"Periodico\")\n",
    "\n",
    "plt.subplot(2,2,3) \n",
    "plt.hist(datos[\"radio\"], color = \"#2874A6\")\n",
    "plt.title(\"radio\")\n",
    "\n",
    "plt.subplot(2,2,4) \n",
    "plt.hist(datos[\"ventas\"], color = \"#2874A6\")\n",
    "plt.title(\"Ventas\")\n",
    "\n",
    "plt.tight_layout() #para que no se superpongan las gráficas\n",
    "\n",
    "plt.show()"
   ]
  },
  {
   "cell_type": "code",
   "execution_count": 8,
   "id": "1841df13",
   "metadata": {},
   "outputs": [
    {
     "data": {
      "text/plain": [
       "<Axes: >"
      ]
     },
     "execution_count": 8,
     "metadata": {},
     "output_type": "execute_result"
    },
    {
     "data": {
      "image/png": "[encoded data removed]",
      "text/plain": [
       "<Figure size 640x480 with 2 Axes>"
      ]
     },
     "metadata": {},
     "output_type": "display_data"
    }
   ],
   "source": [
    "sns.heatmap(datos.corr(),\n",
    "            annot = True,\n",
    "            annot_kws = {'size': 12},\n",
    "            cmap = \"Blues\")"
   ]
  },
  {
   "cell_type": "markdown",
   "id": "60392b3e",
   "metadata": {},
   "source": [
    "2. Separe sus datos en 70/30"
   ]
  },
  {
   "cell_type": "code",
   "execution_count": 19,
   "id": "c997e6d2",
   "metadata": {},
   "outputs": [],
   "source": [
    "X = datos[[\"tv\", \"radio\",\"periodico\"]]\n",
    "y = datos['ventas']\n",
    "\n",
    "X_train, X_test, y_train, y_test = train_test_split(\n",
    "                                        X,\n",
    "                                        y.values.reshape(-1,1),\n",
    "                                        train_size   = 0.7,\n",
    "                                        random_state = 1234, #semilla para mantener la misma partición\n",
    "                                        shuffle      = True\n",
    "                                    )"
   ]
  },
  {
   "cell_type": "markdown",
   "id": "fa9e07a8",
   "metadata": {},
   "source": [
    "3. Obtenga su modelo de Regresión lineal"
   ]
  },
  {
   "cell_type": "code",
   "execution_count": 15,
   "id": "172fee00",
   "metadata": {},
   "outputs": [
    {
     "name": "stdout",
     "output_type": "stream",
     "text": [
      "Model Score: 0.9023925510979883\n",
      "\n",
      "periodico    0.001555\n",
      "tv           0.046052\n",
      "radio        0.185405\n",
      "const        2.938893\n",
      "dtype: float64\n"
     ]
    }
   ],
   "source": [
    "# Create a linear regression model\n",
    "model = LinearRegression()\n",
    "\n",
    "# Fit the model on the training set\n",
    "model.fit(X_train, y_train)\n",
    "\n",
    "# Evaluate the model on the testing set\n",
    "score = model.score(X_test, y_test)\n",
    "\n",
    "print(\"Model Score:\", score)\n",
    "\n",
    "coefficients = model.coef_\n",
    "intercept = model.intercept_[0]\n",
    "\n",
    "predictors = X_train.columns.tolist()\n",
    "predictors.append(\"const\")\n",
    "\n",
    "coefficients = coefficients[0].tolist()\n",
    "coefficients.append(intercept)\n",
    "\n",
    "\n",
    "coef = pd.Series(coefficients, predictors).sort_values()\n",
    "print()\n",
    "print(coef)\n",
    "\n",
    "\n"
   ]
  },
  {
   "cell_type": "markdown",
   "id": "a09c63d1",
   "metadata": {},
   "source": [
    "4. Entregue la recta matemática de regresión con las estimaciones obtenidas"
   ]
  },
  {
   "cell_type": "code",
   "execution_count": 35,
   "id": "3cc758fd",
   "metadata": {},
   "outputs": [
    {
     "name": "stdout",
     "output_type": "stream",
     "text": [
      "Y = 2.939 + 0.046 * TV + 0.185 * Radio + 0.002 * Periodico\n"
     ]
    }
   ],
   "source": [
    "print(f'Y = {intercept:.3f} + {coefficients[0]:.3f} * TV + {coefficients[1]:.3f} * Radio + {coefficients[2]:.3f} * Periodico')\n"
   ]
  },
  {
   "cell_type": "markdown",
   "id": "9864dae7",
   "metadata": {},
   "source": [
    "5. Realice un diagnóstico de los residuos del modelo."
   ]
  },
  {
   "cell_type": "code",
   "execution_count": 36,
   "id": "f0415568",
   "metadata": {},
   "outputs": [
    {
     "data": {
      "text/plain": [
       "(array([ 1.,  2.,  2.,  5.,  3.,  3., 18., 15., 10.,  1.]),\n",
       " array([-5.322498  , -4.51310606, -3.70371412, -2.89432218, -2.08493024,\n",
       "        -1.2755383 , -0.46614636,  0.34324558,  1.15263752,  1.96202947,\n",
       "         2.77142141]),\n",
       " <BarContainer object of 10 artists>)"
      ]
     },
     "execution_count": 36,
     "metadata": {},
     "output_type": "execute_result"
    },
    {
     "data": {
      "image/png": "[encoded data removed]",
      "text/plain": [
       "<Figure size 640x480 with 1 Axes>"
      ]
     },
     "metadata": {},
     "output_type": "display_data"
    }
   ],
   "source": [
    "#Inspeccionar gráficamente los residuos\n",
    "y_pred = model.predict(X_test)\n",
    "y_test = y_test.flatten()\n",
    "y_pred = y_pred.flatten()\n",
    "residuals = y_test - y_pred\n",
    "#sns.scatterplot(x=y_test, y=residuals)\n",
    "\n",
    "# ver como histograma con matplotlib\n",
    "plt.hist(residuals, color = \"#2874A6\")\n",
    "\n",
    "# *****************falta la interpretacion*****************\n",
    "\n"
   ]
  },
  {
   "cell_type": "markdown",
   "id": "1925cd22",
   "metadata": {},
   "source": [
    "6. Realice el test de normalidad"
   ]
  },
  {
   "cell_type": "code",
   "execution_count": 41,
   "id": "412c26fd",
   "metadata": {},
   "outputs": [
    {
     "name": "stdout",
     "output_type": "stream",
     "text": [
      "Shapiro-Wilk Test: Statistic: 0.916, p-value: 0.001\n",
      "Residuals do not look Gaussian (reject H0)\n"
     ]
    }
   ],
   "source": [
    "# Normalidad de los residuos Shapiro-Wilk test\n",
    "\n",
    "s, p = shapiro(residuals)\n",
    "\n",
    "print(f'Shapiro-Wilk Test: Statistic: {s:.3f}, p-value: {p:.3f}')\n",
    "\n",
    "if p > 0.05:\n",
    "\n",
    "    print('Residuals look Gaussian (fail to reject H0)')\n",
    "\n",
    "else:\n",
    "\n",
    "    print('Residuals do not look Gaussian (reject H0)')\n"
   ]
  },
  {
   "cell_type": "code",
   "execution_count": 42,
   "id": "5870d8c2",
   "metadata": {},
   "outputs": [
    {
     "name": "stdout",
     "output_type": "stream",
     "text": [
      "D’Agostino’s K^2 Test: Statistic: 11.391, p-value: 0.001\n",
      "Residuals do not look Gaussian (reject H0)\n"
     ]
    }
   ],
   "source": [
    "# Normalidad de los residuos D'Agostino's K-squared test\n",
    "\n",
    "k2, p_value = normaltest(residuals)\n",
    "\n",
    "print(f'D’Agostino’s K^2 Test: Statistic: {k2:.3f}, p-value: {p:.3f}')\n",
    "\n",
    "if p > 0.05:\n",
    "\n",
    "    print('Residuals look Gaussian (fail to reject H0)')\n",
    "\n",
    "else:\n",
    "\n",
    "    print('Residuals do not look Gaussian (reject H0)')\n"
   ]
  },
  {
   "cell_type": "markdown",
   "id": "ed63b217",
   "metadata": {},
   "source": [
    "7. Obtenga las predicciones del modelo"
   ]
  },
  {
   "cell_type": "code",
   "execution_count": 43,
   "id": "c2f3a080",
   "metadata": {},
   "outputs": [
    {
     "data": {
      "text/html": [
       "<div>\n",
       "<style scoped>\n",
       "    .dataframe tbody tr th:only-of-type {\n",
       "        vertical-align: middle;\n",
       "    }\n",
       "\n",
       "    .dataframe tbody tr th {\n",
       "        vertical-align: top;\n",
       "    }\n",
       "\n",
       "    .dataframe thead th {\n",
       "        text-align: right;\n",
       "    }\n",
       "</style>\n",
       "<table border=\"1\" class=\"dataframe\">\n",
       "  <thead>\n",
       "    <tr style=\"text-align: right;\">\n",
       "      <th></th>\n",
       "      <th>ventas (y)</th>\n",
       "      <th>tv</th>\n",
       "      <th>radio</th>\n",
       "      <th>periodico</th>\n",
       "      <th>predictions</th>\n",
       "      <th>residuals</th>\n",
       "    </tr>\n",
       "  </thead>\n",
       "  <tbody>\n",
       "    <tr>\n",
       "      <th>197</th>\n",
       "      <td>12.8</td>\n",
       "      <td>177.0</td>\n",
       "      <td>9.3</td>\n",
       "      <td>6.4</td>\n",
       "      <td>12.824246</td>\n",
       "      <td>-0.024246</td>\n",
       "    </tr>\n",
       "    <tr>\n",
       "      <th>157</th>\n",
       "      <td>10.1</td>\n",
       "      <td>149.8</td>\n",
       "      <td>1.3</td>\n",
       "      <td>24.3</td>\n",
       "      <td>10.116244</td>\n",
       "      <td>-0.016244</td>\n",
       "    </tr>\n",
       "    <tr>\n",
       "      <th>31</th>\n",
       "      <td>11.9</td>\n",
       "      <td>112.9</td>\n",
       "      <td>17.4</td>\n",
       "      <td>38.6</td>\n",
       "      <td>11.424202</td>\n",
       "      <td>0.475798</td>\n",
       "    </tr>\n",
       "    <tr>\n",
       "      <th>48</th>\n",
       "      <td>14.8</td>\n",
       "      <td>227.2</td>\n",
       "      <td>15.8</td>\n",
       "      <td>49.9</td>\n",
       "      <td>16.408828</td>\n",
       "      <td>-1.608828</td>\n",
       "    </tr>\n",
       "    <tr>\n",
       "      <th>63</th>\n",
       "      <td>14.0</td>\n",
       "      <td>102.7</td>\n",
       "      <td>29.6</td>\n",
       "      <td>8.4</td>\n",
       "      <td>13.169444</td>\n",
       "      <td>0.830556</td>\n",
       "    </tr>\n",
       "    <tr>\n",
       "      <th>59</th>\n",
       "      <td>18.4</td>\n",
       "      <td>210.7</td>\n",
       "      <td>29.5</td>\n",
       "      <td>9.3</td>\n",
       "      <td>18.125876</td>\n",
       "      <td>0.274124</td>\n",
       "    </tr>\n",
       "    <tr>\n",
       "      <th>5</th>\n",
       "      <td>7.2</td>\n",
       "      <td>8.7</td>\n",
       "      <td>48.9</td>\n",
       "      <td>75.0</td>\n",
       "      <td>12.522498</td>\n",
       "      <td>-5.322498</td>\n",
       "    </tr>\n",
       "    <tr>\n",
       "      <th>7</th>\n",
       "      <td>13.2</td>\n",
       "      <td>120.2</td>\n",
       "      <td>19.6</td>\n",
       "      <td>11.6</td>\n",
       "      <td>12.126275</td>\n",
       "      <td>1.073725</td>\n",
       "    </tr>\n",
       "    <tr>\n",
       "      <th>117</th>\n",
       "      <td>9.4</td>\n",
       "      <td>76.4</td>\n",
       "      <td>0.8</td>\n",
       "      <td>14.8</td>\n",
       "      <td>6.628579</td>\n",
       "      <td>2.771421</td>\n",
       "    </tr>\n",
       "    <tr>\n",
       "      <th>108</th>\n",
       "      <td>5.3</td>\n",
       "      <td>13.1</td>\n",
       "      <td>0.4</td>\n",
       "      <td>25.6</td>\n",
       "      <td>3.656149</td>\n",
       "      <td>1.643851</td>\n",
       "    </tr>\n",
       "  </tbody>\n",
       "</table>\n",
       "</div>"
      ],
      "text/plain": [
       "     ventas (y)     tv  radio  periodico  predictions  residuals\n",
       "197        12.8  177.0    9.3        6.4    12.824246  -0.024246\n",
       "157        10.1  149.8    1.3       24.3    10.116244  -0.016244\n",
       "31         11.9  112.9   17.4       38.6    11.424202   0.475798\n",
       "48         14.8  227.2   15.8       49.9    16.408828  -1.608828\n",
       "63         14.0  102.7   29.6        8.4    13.169444   0.830556\n",
       "59         18.4  210.7   29.5        9.3    18.125876   0.274124\n",
       "5           7.2    8.7   48.9       75.0    12.522498  -5.322498\n",
       "7          13.2  120.2   19.6       11.6    12.126275   1.073725\n",
       "117         9.4   76.4    0.8       14.8     6.628579   2.771421\n",
       "108         5.3   13.1    0.4       25.6     3.656149   1.643851"
      ]
     },
     "execution_count": 43,
     "metadata": {},
     "output_type": "execute_result"
    }
   ],
   "source": [
    "predictions = X_test.copy()\n",
    "predictions.insert(0,\"ventas (y)\", y_test.flatten()) \n",
    "predictions[\"predictions\"] = model.predict(X_test).flatten()\n",
    "predictions[\"residuals\"] = residuals\n",
    "predictions.head(10)"
   ]
  },
  {
   "cell_type": "markdown",
   "id": "45bb9b0e",
   "metadata": {},
   "source": [
    "8. Entregue el error del test"
   ]
  },
  {
   "cell_type": "code",
   "execution_count": 54,
   "id": "a435ab90",
   "metadata": {},
   "outputs": [
    {
     "name": "stdout",
     "output_type": "stream",
     "text": [
      "Mean Absolute Error (MAE): 1.2029579536281823\n",
      "Mean Squared Error (MSE): 2.6697792772530105\n",
      "Root Mean Squared Error (RMSE): 1.633945922377179\n",
      "R-squared (R2): 90.2393%\n",
      "Adjusted R-squared (R2): 89.7164%\n"
     ]
    }
   ],
   "source": [
    "# Obtener las predicciones en el conjunto de prueba\n",
    "\n",
    "\n",
    "\n",
    "y_pred = model.predict(X_test)\n",
    "\n",
    "# Calcular el MAE\n",
    "mae = mean_absolute_error(y_test, y_pred)\n",
    "\n",
    "# Calcular el MSE\n",
    "mse = mean_squared_error(y_test, y_pred)\n",
    "\n",
    "# Calcular el RMSE\n",
    "\n",
    "rmse = np.sqrt(mse)\n",
    "\n",
    "#calcular el R2\n",
    "r2 = r2_score(y_test, y_pred)\n",
    "\n",
    "# calcular el R2 ajustado\n",
    "\n",
    "# R2 ajustado\n",
    "n = len(X_test) # número de observaciones\n",
    "p = len(X_test.columns) # número de predictores\n",
    "r2_ajustado = 1 - (1-r2)*(n-1)/(n-p-1)\n",
    "\n",
    "\n",
    "print(\"Mean Absolute Error (MAE):\", mae)\n",
    "print(\"Mean Squared Error (MSE):\", mse)\n",
    "print(\"Root Mean Squared Error (RMSE):\", rmse)\n",
    "print(f\"R-squared (R2): {r2*100:.4f}%\")\n",
    "print(f\"Adjusted R-squared (R2): {r2_ajustado*100:.4f}%\")\n"
   ]
  },
  {
   "cell_type": "markdown",
   "id": "b639fd2d",
   "metadata": {},
   "source": [
    "9. Interprete sus resultados y responda al problema planteado."
   ]
  },
  {
   "cell_type": "code",
   "execution_count": null,
   "id": "a80ea62a",
   "metadata": {},
   "outputs": [],
   "source": [
    "# 9. Interprete sus resultados y responda al problema planteado.\n",
    "\n",
    "# De acuerdo a los resultados obtenidos, se puede concluir que el modelo de regresión lineal múltiple \n",
    "# es adecuado para predecir las ventas de acuerdo a los gastos en publicidad en TV, radio y periodico, \n",
    "# ya que el modelo tiene un R2 de 0.9, lo que indica que el 90% de la variabilidad de las ventas se \n",
    "# explica por los gastos en publicidad en TV, radio y periodico. Además, el p-value del modelo es menor \n",
    "# a 0.05, lo que indica que el modelo es significativo. Por otro lado, el coeficiente de determinación \n",
    "# ajustado es de 0.89, lo que indica que el 89% de la variabilidad de las ventas se explica por los gastos \n",
    "# en publicidad en TV, radio y periodico. Por último, el modelo tiene un MAE de 1.2, lo que indica que el \n",
    "# error promedio de las predicciones es de 1.2 unidades, lo que es un error bajo.\n",
    "\n"
   ]
  },
  {
   "cell_type": "markdown",
   "id": "a483ac38",
   "metadata": {},
   "source": [
    "Preguntas guía\n",
    "\n",
    "Algoritmos de regresión lineal simple\n",
    "\n",
    "R: Son algoritmos que permiten predecir una variable continua a partir de una variable independiente.\n",
    "\n",
    "Quién o qué es la variable respuesta\n",
    "R: Corresponde a la variable que se desea predecir. En el ejemplo de la publicidad, la variable respuesta\n"
   ]
  }
 ],
 "metadata": {
  "kernelspec": {
   "display_name": "Python 3 (ipykernel)",
   "language": "python",
   "name": "python3"
  },
  "language_info": {
   "codemirror_mode": {
    "name": "ipython",
    "version": 3
   },
   "file_extension": ".py",
   "mimetype": "text/x-python",
   "name": "python",
   "nbconvert_exporter": "python",
   "pygments_lexer": "ipython3",
   "version": "3.9.13"
  }
 },
 "nbformat": 4,
 "nbformat_minor": 5
}
