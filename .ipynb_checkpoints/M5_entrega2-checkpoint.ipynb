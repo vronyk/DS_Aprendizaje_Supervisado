{
 "cells": [
  {
   "cell_type": "code",
   "execution_count": 59,
   "id": "b79c2b6c",
   "metadata": {},
   "outputs": [],
   "source": [
    "#Importar librerías\n",
    "from IPython.display import display, Markdown\n",
    "from sklearn.datasets import fetch_california_housing\n",
    "from sklearn.feature_selection import SelectKBest, f_regression\n",
    "from sklearn.linear_model import LinearRegression\n",
    "from sklearn.model_selection import cross_val_score\n",
    "from sklearn.model_selection import train_test_split\n",
    "from sklearn.model_selection import GridSearchCV\n",
    "import pandas as pd\n",
    "import numpy as np\n",
    "import matplotlib.pyplot as plt\n",
    "import seaborn as sns\n",
    "from sklearn.preprocessing import StandardScaler, MinMaxScaler\n",
    "import scipy.stats\n",
    "from sklearn.metrics import mean_absolute_error, mean_squared_error"
   ]
  },
  {
   "cell_type": "markdown",
   "id": "9ec2470f",
   "metadata": {},
   "source": [
    "Suponga que le han pedido averiguar si existe una relación entre el número de veces que batean los jugadores de un equipo de béisbol y el número de runs que consigue. En caso de existir y de establecer un modelo, podría predecir el resultado del partido para los siguientes datos:"
   ]
  },
  {
   "cell_type": "code",
   "execution_count": 4,
   "id": "5c42f84c",
   "metadata": {},
   "outputs": [
    {
     "data": {
      "text/html": [
       "<div>\n",
       "<style scoped>\n",
       "    .dataframe tbody tr th:only-of-type {\n",
       "        vertical-align: middle;\n",
       "    }\n",
       "\n",
       "    .dataframe tbody tr th {\n",
       "        vertical-align: top;\n",
       "    }\n",
       "\n",
       "    .dataframe thead th {\n",
       "        text-align: right;\n",
       "    }\n",
       "</style>\n",
       "<table border=\"1\" class=\"dataframe\">\n",
       "  <thead>\n",
       "    <tr style=\"text-align: right;\">\n",
       "      <th></th>\n",
       "      <th>equipos</th>\n",
       "      <th>bateos</th>\n",
       "      <th>runs</th>\n",
       "    </tr>\n",
       "  </thead>\n",
       "  <tbody>\n",
       "    <tr>\n",
       "      <th>0</th>\n",
       "      <td>Texas</td>\n",
       "      <td>5659</td>\n",
       "      <td>855</td>\n",
       "    </tr>\n",
       "    <tr>\n",
       "      <th>1</th>\n",
       "      <td>Boston</td>\n",
       "      <td>5710</td>\n",
       "      <td>875</td>\n",
       "    </tr>\n",
       "    <tr>\n",
       "      <th>2</th>\n",
       "      <td>Detroit</td>\n",
       "      <td>5563</td>\n",
       "      <td>787</td>\n",
       "    </tr>\n",
       "    <tr>\n",
       "      <th>3</th>\n",
       "      <td>Kansas</td>\n",
       "      <td>5672</td>\n",
       "      <td>730</td>\n",
       "    </tr>\n",
       "    <tr>\n",
       "      <th>4</th>\n",
       "      <td>St.</td>\n",
       "      <td>5532</td>\n",
       "      <td>762</td>\n",
       "    </tr>\n",
       "  </tbody>\n",
       "</table>\n",
       "</div>"
      ],
      "text/plain": [
       "   equipos  bateos  runs\n",
       "0    Texas    5659   855\n",
       "1   Boston    5710   875\n",
       "2  Detroit    5563   787\n",
       "3   Kansas    5672   730\n",
       "4      St.    5532   762"
      ]
     },
     "execution_count": 4,
     "metadata": {},
     "output_type": "execute_result"
    }
   ],
   "source": [
    "equipos = [\"Texas\",\"Boston\",\"Detroit\",\"Kansas\",\"St.\",\"New_S.\",\"New_Y.\",\n",
    "           \"Milwaukee\",\"Colorado\",\"Houston\",\"Baltimore\",\"Los_An.\",\"Chicago\",\n",
    "           \"Cincinnati\",\"Los_P.\",\"Philadelphia\",\"Chicago\",\"Cleveland\",\"Arizona\",\n",
    "           \"Toronto\",\"Minnesota\",\"Florida\",\"Pittsburgh\",\"Oakland\",\"Tampa\",\n",
    "           \"Atlanta\",\"Washington\",\"San.F\",\"San.I\",\"Seattle\"]\n",
    "\n",
    "bateos = [5659, 5710, 5563, 5672, 5532, 5600, 5518, 5447, 5544, 5598,\n",
    "          5585, 5436, 5549, 5612, 5513, 5579, 5502, 5509, 5421, 5559,\n",
    "          5487, 5508, 5421, 5452, 5436, 5528, 5441, 5486, 5417, 5421]\n",
    "\n",
    "runs = [855, 875, 787, 730, 762, 718, 867, 721, 735, 615, 708, 644, 654,\n",
    "        735, 667, 713, 654, 704, 731, 743, 619, 625, 610, 645, 707, 641,\n",
    "        624, 570, 593, 556]\n",
    "\n",
    "datos = pd.DataFrame({'equipos': equipos, 'bateos': bateos, 'runs': runs})\n",
    "datos.head(5)"
   ]
  },
  {
   "cell_type": "markdown",
   "id": "dd71bfbb",
   "metadata": {},
   "source": [
    "1. Obtenga la distribución de los datos"
   ]
  },
  {
   "cell_type": "code",
   "execution_count": 37,
   "id": "36e9d31d",
   "metadata": {},
   "outputs": [
    {
     "name": "stdout",
     "output_type": "stream",
     "text": [
      "<class 'pandas.core.frame.DataFrame'>\n",
      "RangeIndex: 30 entries, 0 to 29\n",
      "Data columns (total 3 columns):\n",
      " #   Column   Non-Null Count  Dtype \n",
      "---  ------   --------------  ----- \n",
      " 0   equipos  30 non-null     object\n",
      " 1   bateos   30 non-null     int64 \n",
      " 2   runs     30 non-null     int64 \n",
      "dtypes: int64(2), object(1)\n",
      "memory usage: 848.0+ bytes\n",
      "None\n"
     ]
    }
   ],
   "source": [
    "print(datos.info()) #obtener detalle de las variables"
   ]
  },
  {
   "cell_type": "code",
   "execution_count": 9,
   "id": "8ad96eff",
   "metadata": {},
   "outputs": [
    {
     "name": "stdout",
     "output_type": "stream",
     "text": [
      "            bateos        runs\n",
      "count    30.000000   30.000000\n",
      "mean   5523.500000  693.600000\n",
      "std      79.873067   82.479088\n",
      "min    5417.000000  556.000000\n",
      "25%    5448.250000  629.000000\n",
      "50%    5515.500000  705.500000\n",
      "75%    5575.000000  734.000000\n",
      "max    5710.000000  875.000000\n",
      "\n",
      "        equipos\n",
      "count        30\n",
      "unique       29\n",
      "top     Chicago\n",
      "freq          2\n"
     ]
    }
   ],
   "source": [
    "print(datos.describe(),\"\\n\") #Descriptivos numéricos\n",
    "\n",
    "print(datos.describe(include = \"object\")) #descriptivos categóricos"
   ]
  },
  {
   "cell_type": "code",
   "execution_count": 36,
   "id": "1a47abbc",
   "metadata": {},
   "outputs": [
    {
     "data": {
      "image/png": "[encoded data removed]",
      "text/plain": [
       "<Figure size 432x288 with 2 Axes>"
      ]
     },
     "metadata": {
      "needs_background": "light"
     },
     "output_type": "display_data"
    }
   ],
   "source": [
    "#gráficos para ver distribución de cada variable\n",
    "plt.subplot(1,2,1) \n",
    "plt.hist(datos[\"bateos\"], color = \"#2874A6\")\n",
    "plt.title(\"Bateos\")\n",
    "\n",
    "plt.subplot(1,2,2) #gráfico Fi\n",
    "plt.hist(datos[\"runs\"], color = \"#2874A6\")\n",
    "plt.title(\"runs\")\n",
    "\n",
    "plt.show()"
   ]
  },
  {
   "cell_type": "code",
   "execution_count": 28,
   "id": "5a0ffb77",
   "metadata": {},
   "outputs": [
    {
     "data": {
      "image/png": "[encoded data removed]",
      "text/plain": [
       "<Figure size 720x432 with 1 Axes>"
      ]
     },
     "metadata": {
      "needs_background": "light"
     },
     "output_type": "display_data"
    }
   ],
   "source": [
    "#gráfico de dispersión\n",
    "fig, ax = plt.subplots(figsize=(10,6))\n",
    "datos.plot(kind=\"scatter\", x = \"bateos\", y = \"runs\", color = \"#2874A6\", ax = ax)\n",
    "ax.set_title('Diagrama de dispersión entre bateos y runs')\n",
    "plt.show()"
   ]
  },
  {
   "cell_type": "code",
   "execution_count": 32,
   "id": "bd26272b",
   "metadata": {},
   "outputs": [
    {
     "name": "stdout",
     "output_type": "stream",
     "text": [
      "Coeficiente de correlación de Pearson:  0.61063\n",
      "P-value:  0.00034\n"
     ]
    }
   ],
   "source": [
    "#Coeficiente de correlación \n",
    "corr_test = scipy.stats.pearsonr(x = datos['bateos'], y =  datos['runs'])\n",
    "print(\"Coeficiente de correlación de Pearson: \", round(corr_test[0],5))\n",
    "print(\"P-value: \", round(corr_test[1],5))"
   ]
  },
  {
   "cell_type": "markdown",
   "id": "a1752cc6",
   "metadata": {},
   "source": [
    "2. Separe sus datos de entrenamiento en 80/20."
   ]
  },
  {
   "cell_type": "code",
   "execution_count": 38,
   "id": "44d564fc",
   "metadata": {},
   "outputs": [],
   "source": [
    "X = datos[['bateos']]\n",
    "y = datos['runs']\n",
    "\n",
    "X_train, X_test, y_train, y_test = train_test_split(\n",
    "                                        X.values.reshape(-1,1),\n",
    "                                        y.values.reshape(-1,1),\n",
    "                                        train_size   = 0.8,\n",
    "                                        random_state = 1234,\n",
    "                                        shuffle      = True\n",
    "                                    )"
   ]
  },
  {
   "cell_type": "code",
   "execution_count": 55,
   "id": "dff9ba2e",
   "metadata": {},
   "outputs": [
    {
     "data": {
      "text/html": [
       "<div>\n",
       "<style scoped>\n",
       "    .dataframe tbody tr th:only-of-type {\n",
       "        vertical-align: middle;\n",
       "    }\n",
       "\n",
       "    .dataframe tbody tr th {\n",
       "        vertical-align: top;\n",
       "    }\n",
       "\n",
       "    .dataframe thead th {\n",
       "        text-align: right;\n",
       "    }\n",
       "</style>\n",
       "<table border=\"1\" class=\"dataframe\">\n",
       "  <thead>\n",
       "    <tr style=\"text-align: right;\">\n",
       "      <th></th>\n",
       "      <th>bateos</th>\n",
       "    </tr>\n",
       "  </thead>\n",
       "  <tbody>\n",
       "    <tr>\n",
       "      <th>0</th>\n",
       "      <td>5659</td>\n",
       "    </tr>\n",
       "    <tr>\n",
       "      <th>1</th>\n",
       "      <td>5710</td>\n",
       "    </tr>\n",
       "    <tr>\n",
       "      <th>2</th>\n",
       "      <td>5563</td>\n",
       "    </tr>\n",
       "    <tr>\n",
       "      <th>3</th>\n",
       "      <td>5672</td>\n",
       "    </tr>\n",
       "    <tr>\n",
       "      <th>4</th>\n",
       "      <td>5532</td>\n",
       "    </tr>\n",
       "    <tr>\n",
       "      <th>5</th>\n",
       "      <td>5600</td>\n",
       "    </tr>\n",
       "    <tr>\n",
       "      <th>6</th>\n",
       "      <td>5518</td>\n",
       "    </tr>\n",
       "    <tr>\n",
       "      <th>7</th>\n",
       "      <td>5447</td>\n",
       "    </tr>\n",
       "    <tr>\n",
       "      <th>8</th>\n",
       "      <td>5544</td>\n",
       "    </tr>\n",
       "    <tr>\n",
       "      <th>9</th>\n",
       "      <td>5598</td>\n",
       "    </tr>\n",
       "    <tr>\n",
       "      <th>10</th>\n",
       "      <td>5585</td>\n",
       "    </tr>\n",
       "    <tr>\n",
       "      <th>11</th>\n",
       "      <td>5436</td>\n",
       "    </tr>\n",
       "    <tr>\n",
       "      <th>12</th>\n",
       "      <td>5549</td>\n",
       "    </tr>\n",
       "    <tr>\n",
       "      <th>13</th>\n",
       "      <td>5612</td>\n",
       "    </tr>\n",
       "    <tr>\n",
       "      <th>14</th>\n",
       "      <td>5513</td>\n",
       "    </tr>\n",
       "    <tr>\n",
       "      <th>15</th>\n",
       "      <td>5579</td>\n",
       "    </tr>\n",
       "    <tr>\n",
       "      <th>16</th>\n",
       "      <td>5502</td>\n",
       "    </tr>\n",
       "    <tr>\n",
       "      <th>17</th>\n",
       "      <td>5509</td>\n",
       "    </tr>\n",
       "    <tr>\n",
       "      <th>18</th>\n",
       "      <td>5421</td>\n",
       "    </tr>\n",
       "    <tr>\n",
       "      <th>19</th>\n",
       "      <td>5559</td>\n",
       "    </tr>\n",
       "    <tr>\n",
       "      <th>20</th>\n",
       "      <td>5487</td>\n",
       "    </tr>\n",
       "    <tr>\n",
       "      <th>21</th>\n",
       "      <td>5508</td>\n",
       "    </tr>\n",
       "    <tr>\n",
       "      <th>22</th>\n",
       "      <td>5421</td>\n",
       "    </tr>\n",
       "    <tr>\n",
       "      <th>23</th>\n",
       "      <td>5452</td>\n",
       "    </tr>\n",
       "    <tr>\n",
       "      <th>24</th>\n",
       "      <td>5436</td>\n",
       "    </tr>\n",
       "    <tr>\n",
       "      <th>25</th>\n",
       "      <td>5528</td>\n",
       "    </tr>\n",
       "    <tr>\n",
       "      <th>26</th>\n",
       "      <td>5441</td>\n",
       "    </tr>\n",
       "    <tr>\n",
       "      <th>27</th>\n",
       "      <td>5486</td>\n",
       "    </tr>\n",
       "    <tr>\n",
       "      <th>28</th>\n",
       "      <td>5417</td>\n",
       "    </tr>\n",
       "    <tr>\n",
       "      <th>29</th>\n",
       "      <td>5421</td>\n",
       "    </tr>\n",
       "  </tbody>\n",
       "</table>\n",
       "</div>"
      ],
      "text/plain": [
       "    bateos\n",
       "0     5659\n",
       "1     5710\n",
       "2     5563\n",
       "3     5672\n",
       "4     5532\n",
       "5     5600\n",
       "6     5518\n",
       "7     5447\n",
       "8     5544\n",
       "9     5598\n",
       "10    5585\n",
       "11    5436\n",
       "12    5549\n",
       "13    5612\n",
       "14    5513\n",
       "15    5579\n",
       "16    5502\n",
       "17    5509\n",
       "18    5421\n",
       "19    5559\n",
       "20    5487\n",
       "21    5508\n",
       "22    5421\n",
       "23    5452\n",
       "24    5436\n",
       "25    5528\n",
       "26    5441\n",
       "27    5486\n",
       "28    5417\n",
       "29    5421"
      ]
     },
     "execution_count": 55,
     "metadata": {},
     "output_type": "execute_result"
    }
   ],
   "source": []
  },
  {
   "cell_type": "markdown",
   "id": "c1ee31d8",
   "metadata": {},
   "source": [
    "3. Ajuste un modelo de regresión lineal."
   ]
  },
  {
   "cell_type": "code",
   "execution_count": 54,
   "id": "6687b124",
   "metadata": {},
   "outputs": [
    {
     "name": "stdout",
     "output_type": "stream",
     "text": [
      "Model Score: 0.4894282764285326\n"
     ]
    },
    {
     "data": {
      "text/plain": [
       "'Coefficients:'"
      ]
     },
     "metadata": {},
     "output_type": "display_data"
    },
    {
     "data": {
      "text/plain": [
       "array([[0.55287135]])"
      ]
     },
     "metadata": {},
     "output_type": "display_data"
    },
    {
     "data": {
      "text/plain": [
       "'Intercept:'"
      ]
     },
     "metadata": {},
     "output_type": "display_data"
    },
    {
     "data": {
      "text/plain": [
       "array([-2367.7028413])"
      ]
     },
     "metadata": {},
     "output_type": "display_data"
    }
   ],
   "source": [
    "# Create a linear regression model\n",
    "model = LinearRegression()\n",
    "\n",
    "# Fit the model on the training set\n",
    "model.fit(X_train, y_train)\n",
    "\n",
    "# Evaluate the model on the testing set\n",
    "score = model.score(X_test, y_test)\n",
    "\n",
    "print(\"Model Score:\", score)\n",
    "\n",
    "coefficients = model.coef_\n",
    "intercept = model.intercept_\n",
    "display(\"Coefficients:\", coefficients)\n",
    "display(\"Intercept:\", intercept)"
   ]
  },
  {
   "cell_type": "markdown",
   "id": "1e5c22a5",
   "metadata": {},
   "source": [
    "4. Escriba la recta de regresión que obtuvo con sus estimaciones respectivas."
   ]
  },
  {
   "cell_type": "markdown",
   "id": "16ad4111",
   "metadata": {},
   "source": [
    "$$\\hat{Y} = -2367.70 + 0.5529*X$$"
   ]
  },
  {
   "cell_type": "markdown",
   "id": "35e2333f",
   "metadata": {},
   "source": [
    "5. Obtenga la gráfica de los datos y su recta de regresión"
   ]
  },
  {
   "cell_type": "code",
   "execution_count": 56,
   "id": "9486af74",
   "metadata": {},
   "outputs": [
    {
     "data": {
      "image/png": "[encoded data removed]",
      "text/plain": [
       "<Figure size 432x288 with 1 Axes>"
      ]
     },
     "metadata": {
      "needs_background": "light"
     },
     "output_type": "display_data"
    }
   ],
   "source": [
    "X = X.values.reshape(-1,1)\n",
    "plt.scatter(X_train, y_train, color='blue', label='Datos Entrenamiento')\n",
    "plt.scatter(X_test, y_test, color='green', label='Datos Prueba')\n",
    "plt.plot(X, model.predict(X), color='red', linewidth=2, label='Recta de Regresión')\n",
    "plt.xlabel('Bateos')\n",
    "plt.ylabel('Runs')\n",
    "plt.title('Relación entre Bateos y Runs')\n",
    "plt.legend()\n",
    "plt.show()"
   ]
  },
  {
   "cell_type": "markdown",
   "id": "d5040b8c",
   "metadata": {},
   "source": [
    "6. Obtenga las métricas: MAE, MSE, RMSE."
   ]
  },
  {
   "cell_type": "code",
   "execution_count": 60,
   "id": "ff2f8a36",
   "metadata": {},
   "outputs": [
    {
     "name": "stdout",
     "output_type": "stream",
     "text": [
      "Mean Absolute Error (MAE): 53.01791867170505\n",
      "Mean Squared Error (MSE): 3520.8458755573306\n",
      "Root Mean Squared Error (RMSE): 59.336716083360486\n"
     ]
    }
   ],
   "source": [
    "# Obtener las predicciones en el conjunto de prueba\n",
    "y_pred = model.predict(X_test)\n",
    "\n",
    "# Calcular el MAE\n",
    "mae = mean_absolute_error(y_test, y_pred)\n",
    "\n",
    "# Calcular el MSE\n",
    "mse = mean_squared_error(y_test, y_pred)\n",
    "\n",
    "# Calcular el RMSE\n",
    "\n",
    "rmse = np.sqrt(mse)\n",
    "\n",
    "print(\"Mean Absolute Error (MAE):\", mae)\n",
    "print(\"Mean Squared Error (MSE):\", mse)\n",
    "print(\"Root Mean Squared Error (RMSE):\", rmse)"
   ]
  },
  {
   "cell_type": "markdown",
   "id": "1bf8e44d",
   "metadata": {},
   "source": [
    "7. Concluya con los datos obtenidos y comente la problemática que le han planteado al principio.\n",
    "Existe un modelo lineal que puede predecir el resultado del proximo partido."
   ]
  }
 ],
 "metadata": {
  "kernelspec": {
   "display_name": "Python 3 (ipykernel)",
   "language": "python",
   "name": "python3"
  },
  "language_info": {
   "codemirror_mode": {
    "name": "ipython",
    "version": 3
   },
   "file_extension": ".py",
   "mimetype": "text/x-python",
   "name": "python",
   "nbconvert_exporter": "python",
   "pygments_lexer": "ipython3",
   "version": "3.9.13"
  }
 },
 "nbformat": 4,
 "nbformat_minor": 5
}
